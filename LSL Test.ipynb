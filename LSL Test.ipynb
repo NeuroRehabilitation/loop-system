{
 "cells": [
  {
   "cell_type": "code",
   "execution_count": null,
   "id": "5a0c7e3f",
   "metadata": {},
   "outputs": [
    {
     "name": "stdout",
     "output_type": "stream",
     "text": [
      "{}\n"
     ]
    }
   ],
   "source": [
    "%run -i ReceiveStreams"
   ]
  },
  {
   "cell_type": "code",
   "execution_count": 9,
   "id": "8d35ac4a",
   "metadata": {},
   "outputs": [
    {
     "data": {
      "text/plain": [
       "{}"
      ]
     },
     "execution_count": 9,
     "metadata": {},
     "output_type": "execute_result"
    }
   ],
   "source": [
    "streams_dict"
   ]
  },
  {
   "cell_type": "code",
   "execution_count": 3,
   "id": "4df08244",
   "metadata": {},
   "outputs": [
    {
     "data": {
      "text/plain": [
       "(4930, 5090)"
      ]
     },
     "execution_count": 3,
     "metadata": {},
     "output_type": "execute_result"
    }
   ],
   "source": [
    "len(streams_dict[\"OpenSignals\"]),len(streams_dict[\"openvibeSignal\"])"
   ]
  },
  {
   "cell_type": "code",
   "execution_count": 4,
   "id": "8603bf6e",
   "metadata": {},
   "outputs": [
    {
     "data": {
      "text/plain": [
       "'Time Elapsed = 4.8058264091960154 seconds'"
      ]
     },
     "execution_count": 4,
     "metadata": {},
     "output_type": "execute_result"
    }
   ],
   "source": [
    "\"Time Elapsed = {} seconds\".format(streams_dict[\"OpenSignals\"][:][-1][1]-streams_dict[\"OpenSignals\"][:][0][1])"
   ]
  },
  {
   "cell_type": "code",
   "execution_count": 5,
   "id": "49d9c067",
   "metadata": {},
   "outputs": [
    {
     "data": {
      "text/plain": [
       "'Delay between streams is 0.15550153791264165 seconds'"
      ]
     },
     "execution_count": 5,
     "metadata": {},
     "output_type": "execute_result"
    }
   ],
   "source": [
    "import numpy as np\n",
    "\"Delay between streams is {} seconds\".format(np.abs(streams_dict[\"openvibeSignal\"][:][0][1]-streams_dict[\"OpenSignals\"][:][0][1]))"
   ]
  },
  {
   "cell_type": "code",
   "execution_count": null,
   "id": "657c842a",
   "metadata": {},
   "outputs": [],
   "source": []
  }
 ],
 "metadata": {
  "kernelspec": {
   "display_name": "Python 3 (ipykernel)",
   "language": "python",
   "name": "python3"
  },
  "language_info": {
   "codemirror_mode": {
    "name": "ipython",
    "version": 3
   },
   "file_extension": ".py",
   "mimetype": "text/x-python",
   "name": "python",
   "nbconvert_exporter": "python",
   "pygments_lexer": "ipython3",
   "version": "3.10.4"
  }
 },
 "nbformat": 4,
 "nbformat_minor": 5
}
