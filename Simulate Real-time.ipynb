{
 "cells": [
  {
   "cell_type": "code",
   "execution_count": 24,
   "id": "eb719560",
   "metadata": {},
   "outputs": [
    {
     "name": "stdout",
     "output_type": "stream",
     "text": [
      "The autoreload extension is already loaded. To reload it, use:\n",
      "  %reload_ext autoreload\n"
     ]
    }
   ],
   "source": [
    "%load_ext autoreload\n",
    "%autoreload 2"
   ]
  },
  {
   "cell_type": "code",
   "execution_count": 25,
   "id": "a92325b1",
   "metadata": {},
   "outputs": [],
   "source": [
    "import os\n",
    "import sys  \n",
    "sys.path.insert(0, r'C:\\Users\\Rodrigo\\Desktop\\PhD\\Study1\\Physiological_Data')\n",
    "import warnings\n",
    "from Signals_Processing import *\n",
    "from Process import *\n",
    "from sklearn.preprocessing import StandardScaler\n",
    "from sklearn.impute import SimpleImputer\n",
    "from sklearn import ensemble, feature_selection\n",
    "import pickle"
   ]
  },
  {
   "cell_type": "code",
   "execution_count": 26,
   "id": "156e2f05",
   "metadata": {},
   "outputs": [
    {
     "data": {
      "text/plain": [
       "'C:\\\\Users\\\\Rodrigo\\\\Desktop\\\\PhD\\\\loop-system'"
      ]
     },
     "execution_count": 26,
     "metadata": {},
     "output_type": "execute_result"
    }
   ],
   "source": [
    "os.chdir(r'C:\\\\Users\\\\Rodrigo\\\\Desktop\\\\PhD\\\\loop-system\\\\')\n",
    "os.getcwd()"
   ]
  },
  {
   "cell_type": "code",
   "execution_count": 31,
   "id": "2b066bd7",
   "metadata": {},
   "outputs": [],
   "source": [
    "\"\"\"Load Data from Folder\"\"\"\n",
    "\n",
    "folder = os.getcwd() + \"\\\\Training Models\\\\\"\n",
    "participant = \"P1_testing\"\n",
    "path = folder + participant"
   ]
  },
  {
   "cell_type": "code",
   "execution_count": 32,
   "id": "68ce14f3",
   "metadata": {},
   "outputs": [],
   "source": [
    "os.chdir(path)\n",
    "users={}\n",
    "for root, dirs, files in os.walk(path):\n",
    "    for fname in files:\n",
    "        if fname.endswith(\".xdf\"):\n",
    "            users[fname] = Run_files(fname)"
   ]
  },
  {
   "cell_type": "code",
   "execution_count": 33,
   "id": "6a90d6cf",
   "metadata": {},
   "outputs": [],
   "source": [
    "Opensignals_fs = 100\n",
    "EEG_fs = 250\n",
    "resolution = 16\n",
    "sensors = [\"ECG\", \"EDA\", \"RESP\"]"
   ]
  },
  {
   "cell_type": "code",
   "execution_count": 34,
   "id": "5cdfcf5a",
   "metadata": {},
   "outputs": [],
   "source": [
    "data = {}\n",
    "for user in users.keys():\n",
    "    data[user.split(\".\")[0]] = Load_Data(\n",
    "        users[user],\n",
    "        \"OpenSignals\",\n",
    "        \"openvibeSignal\",\n",
    "        \"PsychoPy Markers\",\n",
    "        \"PsychoPy Markers\",\n",
    "        sensors,\n",
    "    )"
   ]
  },
  {
   "cell_type": "code",
   "execution_count": 35,
   "id": "ec1db4ce",
   "metadata": {},
   "outputs": [],
   "source": [
    "onset,offset = ({}, {})\n",
    "horror_markers, social_markers = [],[]\n",
    "for user in data.keys():\n",
    "    for timestamp, markers in zip(data[user][\"Markers Timestamps\"], data[user][\"Markers\"]):\n",
    "        if \"Horror\" in markers[0]:\n",
    "            horror_markers.append(timestamp)\n",
    "        if \"Social\" in markers[0]:\n",
    "            social_markers.append(timestamp)\n",
    "        if \"start\" in markers:\n",
    "            onset[user] = timestamp\n",
    "        elif \"end\" in markers:\n",
    "            offset[user] = timestamp"
   ]
  },
  {
   "cell_type": "code",
   "execution_count": 36,
   "id": "a41e8c49",
   "metadata": {},
   "outputs": [
    {
     "data": {
      "text/plain": [
       "(93376.03895173671, 93690.08634346622)"
      ]
     },
     "execution_count": 36,
     "metadata": {},
     "output_type": "execute_result"
    }
   ],
   "source": [
    "horror_timestamp = horror_markers[-1]\n",
    "social_timestamp = social_markers[-1]\n",
    "horror_timestamp,social_timestamp"
   ]
  },
  {
   "cell_type": "code",
   "execution_count": 37,
   "id": "7677af05",
   "metadata": {},
   "outputs": [],
   "source": [
    "onset_index = {}\n",
    "offset_index = {}\n",
    "\n",
    "for user in data.keys():\n",
    "    onset_index[user] = np.where(data[user][\"Signals\"][\"Time\"] >= onset[user])[0]\n",
    "    offset_index[user] = np.where(data[user][\"Signals\"][\"Time\"] <= (offset[user]-40))[-1]\n",
    "    index = np.where(onset_index[user] < offset_index[user][-1])[0][-1]\n",
    "    onset_index[user] = onset_index[user][:index]"
   ]
  },
  {
   "cell_type": "code",
   "execution_count": 38,
   "id": "3a3e9938",
   "metadata": {},
   "outputs": [],
   "source": [
    "horror_timestamps = np.where(data[user][\"Signals\"][\"Time\"]<=horror_timestamp)\n",
    "social_timestamps = np.where(data[user][\"Signals\"][\"Time\"]>=horror_timestamp)"
   ]
  },
  {
   "cell_type": "code",
   "execution_count": 39,
   "id": "57e2e3dc",
   "metadata": {},
   "outputs": [
    {
     "data": {
      "text/plain": [
       "27110"
      ]
     },
     "execution_count": 39,
     "metadata": {},
     "output_type": "execute_result"
    }
   ],
   "source": [
    "horror_indexes = []\n",
    "for x in onset_index[user]:\n",
    "    if x in horror_timestamps[0]:\n",
    "        horror_indexes.append(x)\n",
    "len(horror_indexes)"
   ]
  },
  {
   "cell_type": "code",
   "execution_count": 40,
   "id": "e15e1623",
   "metadata": {},
   "outputs": [
    {
     "data": {
      "text/plain": [
       "29880"
      ]
     },
     "execution_count": 40,
     "metadata": {},
     "output_type": "execute_result"
    }
   ],
   "source": [
    "social_indexes = []\n",
    "for x in onset_index[user]:\n",
    "    if x in social_timestamps[0]:\n",
    "        social_indexes.append(x)\n",
    "len(social_indexes)"
   ]
  },
  {
   "cell_type": "code",
   "execution_count": 41,
   "id": "86872fad",
   "metadata": {},
   "outputs": [
    {
     "data": {
      "text/plain": [
       "(56990, 56990)"
      ]
     },
     "execution_count": 41,
     "metadata": {},
     "output_type": "execute_result"
    }
   ],
   "source": [
    "(len(horror_indexes)+len(social_indexes)),len(onset_index[user])"
   ]
  },
  {
   "cell_type": "code",
   "execution_count": 42,
   "id": "828ae0f7",
   "metadata": {},
   "outputs": [],
   "source": [
    "categories = np.array([\"Horror\"]*len(horror_indexes) + [\"Social Negative\"]*len(social_indexes))"
   ]
  },
  {
   "cell_type": "code",
   "execution_count": 30,
   "id": "1ee77b77",
   "metadata": {},
   "outputs": [
    {
     "name": "stderr",
     "output_type": "stream",
     "text": [
      "C:\\Users\\Rodrigo\\AppData\\Local\\Temp\\ipykernel_2452\\4023118445.py:1: DeprecationWarning: elementwise comparison failed; this will raise an error in the future.\n",
      "  horror_indexes = onset_index[user][onset_index[user] == np.where(data[user][\"Signals\"][\"Time\"]<=horror_timestamp)[0]]\n"
     ]
    }
   ],
   "source": [
    "horror_indexes = onset_index[user][onset_index[user] == np.where(data[user][\"Signals\"][\"Time\"]<=horror_timestamp)[0]]"
   ]
  },
  {
   "cell_type": "code",
   "execution_count": 31,
   "id": "eace9411",
   "metadata": {},
   "outputs": [
    {
     "data": {
      "text/plain": [
       "array([], shape=(0, 59336), dtype=int64)"
      ]
     },
     "execution_count": 31,
     "metadata": {},
     "output_type": "execute_result"
    }
   ],
   "source": [
    "horror_indexes"
   ]
  },
  {
   "cell_type": "code",
   "execution_count": 10,
   "id": "e2002cd8",
   "metadata": {},
   "outputs": [],
   "source": [
    "EEG_timestamps=[]\n",
    "for timestamp in data[user][\"Signals\"][\"Time\"][onset_index[user]]:\n",
    "    EEG_timestamps.append(np.where(np.array(data[user][\"EEG\"][\"Time\"]) <= timestamp)[0][-1])"
   ]
  },
  {
   "cell_type": "code",
   "execution_count": 11,
   "id": "f84ba63c",
   "metadata": {
    "scrolled": true
   },
   "outputs": [],
   "source": [
    "EEG_filtered = filterEEG(data, EEG_fs)\n",
    "EEG_filtered = getEEGChannels(EEG_filtered)"
   ]
  },
  {
   "cell_type": "code",
   "execution_count": null,
   "id": "f3b55ed1",
   "metadata": {
    "scrolled": false
   },
   "outputs": [
    {
     "name": "stdout",
     "output_type": "stream",
     "text": [
      "EEG_1\n",
      "EEG_2\n",
      "EEG_3\n",
      "EEG_4\n",
      "EEG_5\n",
      "EEG_6\n"
     ]
    }
   ],
   "source": [
    "import warnings\n",
    "import csv\n",
    "warnings.filterwarnings(\"ignore\")\n",
    "for users in data.keys():\n",
    "    bands_dict={}\n",
    "    for column in EEG_filtered[users].columns:\n",
    "        print(column)\n",
    "        temp_dict={}\n",
    "        EEG_epoch = nk.epochs_create(\n",
    "            EEG_filtered[users][column].to_frame(),\n",
    "            events=EEG_timestamps,\n",
    "            sampling_rate=EEG_fs,\n",
    "            epochs_start=0,\n",
    "            epochs_end=40)\n",
    "        for key in EEG_epoch.keys():\n",
    "            band_power = EEG.frequencyAnalysis(EEG_epoch[key][column], EEG_fs)\n",
    "            temp_dict[key] = band_power\n",
    "        bands_dict[column]=temp_dict"
   ]
  },
  {
   "cell_type": "code",
   "execution_count": null,
   "id": "b2d31fc3",
   "metadata": {},
   "outputs": [],
   "source": [
    "bands_dict"
   ]
  },
  {
   "cell_type": "code",
   "execution_count": null,
   "id": "2f6e5659",
   "metadata": {},
   "outputs": [],
   "source": [
    "columns = []\n",
    "for channel in bands_dict.keys():\n",
    "    for band in bands_dict[\"EEG_1\"][\"1\"].keys():\n",
    "        columns.append(channel+\"_\"+band)\n",
    "EEG_dataframe = pd.DataFrame(columns=columns)"
   ]
  },
  {
   "cell_type": "code",
   "execution_count": null,
   "id": "c6518aa8",
   "metadata": {},
   "outputs": [],
   "source": [
    "for i,epoch in enumerate(bands_dict[\"EEG_1\"].keys()):\n",
    "    temp_list = []\n",
    "    for channel in bands_dict.keys():\n",
    "        for band in bands_dict[channel][epoch].keys():\n",
    "            temp_list.append(bands_dict[channel][epoch][band])\n",
    "    EEG_dataframe.loc[i] = temp_list"
   ]
  },
  {
   "cell_type": "code",
   "execution_count": null,
   "id": "30060ad6",
   "metadata": {},
   "outputs": [],
   "source": [
    "EEG_dataframe"
   ]
  },
  {
   "cell_type": "code",
   "execution_count": null,
   "id": "694ba116",
   "metadata": {},
   "outputs": [],
   "source": [
    "EEG_dataframe.to_csv(\"C://Users//Cave-admin//Desktop//Users//Rodrigo//loop-system//EEG_P1.csv\",index=False,header=True)"
   ]
  },
  {
   "cell_type": "code",
   "execution_count": null,
   "id": "5de9b157",
   "metadata": {},
   "outputs": [],
   "source": [
    "EEG_dataframe = pd.read_csv(r'C:\\Users\\Cave-admin\\Desktop\\Users\\Rodrigo\\loop-system\\EEG.csv', sep=\",\", index_col=False)\n",
    "EEG_dataframe"
   ]
  },
  {
   "cell_type": "code",
   "execution_count": null,
   "id": "dcc13d82",
   "metadata": {},
   "outputs": [],
   "source": [
    "Signals_epochs = {}\n",
    "for users in data.keys():\n",
    "    Signals_epochs[users] = nk.epochs_create(\n",
    "        data[users][\"Signals\"],\n",
    "        events=onset_index[users],\n",
    "        sampling_rate=Opensignals_fs,\n",
    "        epochs_start=0,\n",
    "        epochs_end=40\n",
    "    )\n",
    "len(Signals_epochs['P2_testing'].keys())"
   ]
  },
  {
   "cell_type": "code",
   "execution_count": null,
   "id": "3d63a53d",
   "metadata": {},
   "outputs": [],
   "source": [
    "# %matplotlib\n",
    "import matplotlib.pyplot as plt\n",
    "plt.plot(Signals_epochs[\"P2_testing\"][\"62364\"][\"Time\"],c=\"r\")\n",
    "# plt.plot(data[\"P2_testing\"][\"Signals\"][\"Time\"],data[\"P2_testing\"][\"Signals\"][\"RESP\"])\n",
    "# plt.axvline(x=onset[\"P2_testing\"],c=\"g\")\n",
    "# plt.axvline(x=offset[\"P2_testing\"],c=\"r\")"
   ]
  },
  {
   "cell_type": "code",
   "execution_count": null,
   "id": "db71490e",
   "metadata": {},
   "outputs": [],
   "source": [
    "import warnings\n",
    "warnings.filterwarnings(\"ignore\")\n",
    "features_signals={}\n",
    "for users in Signals_epochs.keys():\n",
    "    temp_dict = {}\n",
    "    for key in Signals_epochs[users].keys():\n",
    "        temp_dict[key] = getDataframe(Signals_epochs[users][key], Opensignals_fs, resolution)\n",
    "        print(key)\n",
    "    features_signals[users] = temp_dict"
   ]
  },
  {
   "cell_type": "code",
   "execution_count": null,
   "id": "143b3e75",
   "metadata": {},
   "outputs": [],
   "source": [
    "features_signals"
   ]
  },
  {
   "cell_type": "code",
   "execution_count": null,
   "id": "b8881553",
   "metadata": {},
   "outputs": [],
   "source": [
    "columns = features_signals[\"P2_testing\"][\"1\"].columns\n",
    "dataframe = pd.DataFrame(columns=columns)\n",
    "for user in features_signals.keys():\n",
    "    for i,epoch in enumerate(features_signals[user].keys()):\n",
    "        print(i)\n",
    "        dataframe.loc[i] = features_signals[user][epoch].loc[0]"
   ]
  },
  {
   "cell_type": "code",
   "execution_count": null,
   "id": "9fe326d8",
   "metadata": {},
   "outputs": [],
   "source": [
    "dataframe"
   ]
  },
  {
   "cell_type": "code",
   "execution_count": null,
   "id": "56937a30",
   "metadata": {},
   "outputs": [],
   "source": [
    "dataframe.to_csv(r'C:\\Users\\Cave-admin\\Desktop\\Users\\Rodrigo\\loop-system\\dataframe_P2.csv',index=False,header=True)"
   ]
  },
  {
   "cell_type": "code",
   "execution_count": null,
   "id": "4952d9e0",
   "metadata": {},
   "outputs": [],
   "source": [
    "EEG_baseline = pd.read_csv(r'C:\\Users\\Cave-admin\\Desktop\\Users\\Rodrigo\\loop-system\\Training Models\\P2\\EEGbaseline.csv', sep=\";\", index_col=0)\n",
    "EEG = pd.read_csv(r'C:\\Users\\Cave-admin\\Desktop\\Users\\Rodrigo\\loop-system\\EEG_P2.csv', sep=\",\", index_col=False)\n",
    "dataframe_baseline = pd.read_csv(r'C:\\Users\\Cave-admin\\Desktop\\Users\\Rodrigo\\loop-system\\Training Models\\P2\\baseline.csv', sep=\";\", index_col=0)\n",
    "dataframe = pd.read_csv(r'C:\\Users\\Cave-admin\\Desktop\\Users\\Rodrigo\\loop-system\\dataframe_P2.csv', sep=\",\", index_col=False)"
   ]
  },
  {
   "cell_type": "code",
   "execution_count": null,
   "id": "9da9c0a4",
   "metadata": {},
   "outputs": [],
   "source": [
    "EEG"
   ]
  },
  {
   "cell_type": "code",
   "execution_count": null,
   "id": "27b54f3a",
   "metadata": {},
   "outputs": [],
   "source": [
    "EEG_baseline"
   ]
  },
  {
   "cell_type": "code",
   "execution_count": null,
   "id": "681e9bc9",
   "metadata": {},
   "outputs": [],
   "source": [
    "dataframe"
   ]
  },
  {
   "cell_type": "code",
   "execution_count": null,
   "id": "99dc1346",
   "metadata": {},
   "outputs": [],
   "source": [
    "dataframe_baseline"
   ]
  },
  {
   "cell_type": "code",
   "execution_count": null,
   "id": "3deb6f09",
   "metadata": {},
   "outputs": [],
   "source": [
    "full_EEG = pd.DataFrame(columns=EEG.columns)\n",
    "for index in EEG.index:\n",
    "    print(index)\n",
    "    full_EEG.loc[index] = EEG.loc[index]-EEG_baseline.loc[0]"
   ]
  },
  {
   "cell_type": "code",
   "execution_count": null,
   "id": "7af87304",
   "metadata": {},
   "outputs": [],
   "source": [
    "full_EEG"
   ]
  },
  {
   "cell_type": "code",
   "execution_count": null,
   "id": "b8ae2a0e",
   "metadata": {},
   "outputs": [],
   "source": [
    "full_EEG.to_csv(r'C:\\Users\\Cave-admin\\Desktop\\Users\\Rodrigo\\loop-system\\full_EEG.csv',index=False,header=True)"
   ]
  },
  {
   "cell_type": "code",
   "execution_count": null,
   "id": "c5ae58e0",
   "metadata": {},
   "outputs": [],
   "source": [
    "full_EEG = pd.read_csv(r'C:\\Users\\Cave-admin\\Desktop\\Users\\Rodrigo\\loop-system\\full_EEG.csv', sep=\",\", index_col=False)"
   ]
  },
  {
   "cell_type": "code",
   "execution_count": null,
   "id": "98525fa4",
   "metadata": {},
   "outputs": [],
   "source": [
    "full_df = pd.DataFrame(columns=dataframe.columns)\n",
    "for index in dataframe.index:\n",
    "    print(index)\n",
    "    full_df.loc[index] = dataframe.loc[index]-dataframe_baseline.loc[0]"
   ]
  },
  {
   "cell_type": "code",
   "execution_count": null,
   "id": "21ef3dc0",
   "metadata": {},
   "outputs": [],
   "source": [
    "full_df.to_csv(r'C:\\Users\\Cave-admin\\Desktop\\Users\\Rodrigo\\loop-system\\full_df.csv',index=False,header=True)"
   ]
  },
  {
   "cell_type": "code",
   "execution_count": null,
   "id": "462de086",
   "metadata": {},
   "outputs": [],
   "source": [
    "full_EEG"
   ]
  },
  {
   "cell_type": "code",
   "execution_count": null,
   "id": "1b62c179",
   "metadata": {},
   "outputs": [],
   "source": [
    "full_dataframe = pd.concat([full_EEG, dataframe], axis=1)\n",
    "full_dataframe"
   ]
  },
  {
   "cell_type": "code",
   "execution_count": null,
   "id": "a8f78838",
   "metadata": {},
   "outputs": [],
   "source": [
    "full_dataframe.to_csv(r'C:\\Users\\Cave-admin\\Desktop\\Users\\Rodrigo\\loop-system\\full_dataframe.csv',index=False,header=True)"
   ]
  },
  {
   "cell_type": "code",
   "execution_count": 28,
   "id": "4565c38d",
   "metadata": {},
   "outputs": [
    {
     "data": {
      "text/html": [
       "<div>\n",
       "<style scoped>\n",
       "    .dataframe tbody tr th:only-of-type {\n",
       "        vertical-align: middle;\n",
       "    }\n",
       "\n",
       "    .dataframe tbody tr th {\n",
       "        vertical-align: top;\n",
       "    }\n",
       "\n",
       "    .dataframe thead th {\n",
       "        text-align: right;\n",
       "    }\n",
       "</style>\n",
       "<table border=\"1\" class=\"dataframe\">\n",
       "  <thead>\n",
       "    <tr style=\"text-align: right;\">\n",
       "      <th></th>\n",
       "      <th>EEG_1_alpha</th>\n",
       "      <th>EEG_1_betha</th>\n",
       "      <th>EEG_1_gamma</th>\n",
       "      <th>EEG_1_theta</th>\n",
       "      <th>EEG_2_alpha</th>\n",
       "      <th>EEG_2_betha</th>\n",
       "      <th>EEG_2_gamma</th>\n",
       "      <th>EEG_2_theta</th>\n",
       "      <th>EEG_3_alpha</th>\n",
       "      <th>EEG_3_betha</th>\n",
       "      <th>...</th>\n",
       "      <th>RRV_CVSD</th>\n",
       "      <th>RRV_MedianBB</th>\n",
       "      <th>RRV_MadBB</th>\n",
       "      <th>RRV_MCVBB</th>\n",
       "      <th>RRV_nn20</th>\n",
       "      <th>RRV_nn50</th>\n",
       "      <th>RRV_pNN50</th>\n",
       "      <th>RRV_pNN20</th>\n",
       "      <th>RRV_HF</th>\n",
       "      <th>RRV_SD1</th>\n",
       "    </tr>\n",
       "  </thead>\n",
       "  <tbody>\n",
       "    <tr>\n",
       "      <th>0</th>\n",
       "      <td>0.000023</td>\n",
       "      <td>0.000012</td>\n",
       "      <td>0.000004</td>\n",
       "      <td>0.000061</td>\n",
       "      <td>0.000221</td>\n",
       "      <td>0.000103</td>\n",
       "      <td>0.000038</td>\n",
       "      <td>0.000296</td>\n",
       "      <td>0.000007</td>\n",
       "      <td>0.000005</td>\n",
       "      <td>...</td>\n",
       "      <td>NaN</td>\n",
       "      <td>NaN</td>\n",
       "      <td>NaN</td>\n",
       "      <td>NaN</td>\n",
       "      <td>NaN</td>\n",
       "      <td>NaN</td>\n",
       "      <td>NaN</td>\n",
       "      <td>NaN</td>\n",
       "      <td>NaN</td>\n",
       "      <td>NaN</td>\n",
       "    </tr>\n",
       "    <tr>\n",
       "      <th>1</th>\n",
       "      <td>0.000023</td>\n",
       "      <td>0.000012</td>\n",
       "      <td>0.000004</td>\n",
       "      <td>0.000061</td>\n",
       "      <td>0.000222</td>\n",
       "      <td>0.000103</td>\n",
       "      <td>0.000038</td>\n",
       "      <td>0.000299</td>\n",
       "      <td>0.000007</td>\n",
       "      <td>0.000005</td>\n",
       "      <td>...</td>\n",
       "      <td>NaN</td>\n",
       "      <td>NaN</td>\n",
       "      <td>NaN</td>\n",
       "      <td>NaN</td>\n",
       "      <td>NaN</td>\n",
       "      <td>NaN</td>\n",
       "      <td>NaN</td>\n",
       "      <td>NaN</td>\n",
       "      <td>NaN</td>\n",
       "      <td>NaN</td>\n",
       "    </tr>\n",
       "    <tr>\n",
       "      <th>2</th>\n",
       "      <td>0.000024</td>\n",
       "      <td>0.000012</td>\n",
       "      <td>0.000004</td>\n",
       "      <td>0.000062</td>\n",
       "      <td>0.000224</td>\n",
       "      <td>0.000104</td>\n",
       "      <td>0.000038</td>\n",
       "      <td>0.000304</td>\n",
       "      <td>0.000007</td>\n",
       "      <td>0.000005</td>\n",
       "      <td>...</td>\n",
       "      <td>NaN</td>\n",
       "      <td>NaN</td>\n",
       "      <td>NaN</td>\n",
       "      <td>NaN</td>\n",
       "      <td>NaN</td>\n",
       "      <td>NaN</td>\n",
       "      <td>NaN</td>\n",
       "      <td>NaN</td>\n",
       "      <td>NaN</td>\n",
       "      <td>NaN</td>\n",
       "    </tr>\n",
       "    <tr>\n",
       "      <th>3</th>\n",
       "      <td>0.000024</td>\n",
       "      <td>0.000012</td>\n",
       "      <td>0.000004</td>\n",
       "      <td>0.000062</td>\n",
       "      <td>0.000225</td>\n",
       "      <td>0.000104</td>\n",
       "      <td>0.000038</td>\n",
       "      <td>0.000306</td>\n",
       "      <td>0.000007</td>\n",
       "      <td>0.000005</td>\n",
       "      <td>...</td>\n",
       "      <td>NaN</td>\n",
       "      <td>NaN</td>\n",
       "      <td>NaN</td>\n",
       "      <td>NaN</td>\n",
       "      <td>NaN</td>\n",
       "      <td>NaN</td>\n",
       "      <td>NaN</td>\n",
       "      <td>NaN</td>\n",
       "      <td>NaN</td>\n",
       "      <td>NaN</td>\n",
       "    </tr>\n",
       "    <tr>\n",
       "      <th>4</th>\n",
       "      <td>0.000024</td>\n",
       "      <td>0.000012</td>\n",
       "      <td>0.000004</td>\n",
       "      <td>0.000063</td>\n",
       "      <td>0.000227</td>\n",
       "      <td>0.000105</td>\n",
       "      <td>0.000038</td>\n",
       "      <td>0.000309</td>\n",
       "      <td>0.000008</td>\n",
       "      <td>0.000005</td>\n",
       "      <td>...</td>\n",
       "      <td>NaN</td>\n",
       "      <td>NaN</td>\n",
       "      <td>NaN</td>\n",
       "      <td>NaN</td>\n",
       "      <td>NaN</td>\n",
       "      <td>NaN</td>\n",
       "      <td>NaN</td>\n",
       "      <td>NaN</td>\n",
       "      <td>NaN</td>\n",
       "      <td>NaN</td>\n",
       "    </tr>\n",
       "    <tr>\n",
       "      <th>...</th>\n",
       "      <td>...</td>\n",
       "      <td>...</td>\n",
       "      <td>...</td>\n",
       "      <td>...</td>\n",
       "      <td>...</td>\n",
       "      <td>...</td>\n",
       "      <td>...</td>\n",
       "      <td>...</td>\n",
       "      <td>...</td>\n",
       "      <td>...</td>\n",
       "      <td>...</td>\n",
       "      <td>...</td>\n",
       "      <td>...</td>\n",
       "      <td>...</td>\n",
       "      <td>...</td>\n",
       "      <td>...</td>\n",
       "      <td>...</td>\n",
       "      <td>...</td>\n",
       "      <td>...</td>\n",
       "      <td>...</td>\n",
       "      <td>...</td>\n",
       "    </tr>\n",
       "    <tr>\n",
       "      <th>56985</th>\n",
       "      <td>0.000037</td>\n",
       "      <td>0.000058</td>\n",
       "      <td>0.000045</td>\n",
       "      <td>0.000180</td>\n",
       "      <td>0.000339</td>\n",
       "      <td>0.000716</td>\n",
       "      <td>0.000674</td>\n",
       "      <td>0.000818</td>\n",
       "      <td>0.000012</td>\n",
       "      <td>0.000021</td>\n",
       "      <td>...</td>\n",
       "      <td>NaN</td>\n",
       "      <td>NaN</td>\n",
       "      <td>NaN</td>\n",
       "      <td>NaN</td>\n",
       "      <td>NaN</td>\n",
       "      <td>NaN</td>\n",
       "      <td>NaN</td>\n",
       "      <td>NaN</td>\n",
       "      <td>NaN</td>\n",
       "      <td>NaN</td>\n",
       "    </tr>\n",
       "    <tr>\n",
       "      <th>56986</th>\n",
       "      <td>0.000037</td>\n",
       "      <td>0.000059</td>\n",
       "      <td>0.000045</td>\n",
       "      <td>0.000180</td>\n",
       "      <td>0.000340</td>\n",
       "      <td>0.000717</td>\n",
       "      <td>0.000674</td>\n",
       "      <td>0.000810</td>\n",
       "      <td>0.000012</td>\n",
       "      <td>0.000021</td>\n",
       "      <td>...</td>\n",
       "      <td>NaN</td>\n",
       "      <td>NaN</td>\n",
       "      <td>NaN</td>\n",
       "      <td>NaN</td>\n",
       "      <td>NaN</td>\n",
       "      <td>NaN</td>\n",
       "      <td>NaN</td>\n",
       "      <td>NaN</td>\n",
       "      <td>NaN</td>\n",
       "      <td>NaN</td>\n",
       "    </tr>\n",
       "    <tr>\n",
       "      <th>56987</th>\n",
       "      <td>0.000038</td>\n",
       "      <td>0.000059</td>\n",
       "      <td>0.000045</td>\n",
       "      <td>0.000181</td>\n",
       "      <td>0.000342</td>\n",
       "      <td>0.000717</td>\n",
       "      <td>0.000676</td>\n",
       "      <td>0.000800</td>\n",
       "      <td>0.000012</td>\n",
       "      <td>0.000022</td>\n",
       "      <td>...</td>\n",
       "      <td>NaN</td>\n",
       "      <td>NaN</td>\n",
       "      <td>NaN</td>\n",
       "      <td>NaN</td>\n",
       "      <td>NaN</td>\n",
       "      <td>NaN</td>\n",
       "      <td>NaN</td>\n",
       "      <td>NaN</td>\n",
       "      <td>NaN</td>\n",
       "      <td>NaN</td>\n",
       "    </tr>\n",
       "    <tr>\n",
       "      <th>56988</th>\n",
       "      <td>0.000038</td>\n",
       "      <td>0.000059</td>\n",
       "      <td>0.000044</td>\n",
       "      <td>0.000182</td>\n",
       "      <td>0.000343</td>\n",
       "      <td>0.000715</td>\n",
       "      <td>0.000680</td>\n",
       "      <td>0.000795</td>\n",
       "      <td>0.000012</td>\n",
       "      <td>0.000022</td>\n",
       "      <td>...</td>\n",
       "      <td>NaN</td>\n",
       "      <td>NaN</td>\n",
       "      <td>NaN</td>\n",
       "      <td>NaN</td>\n",
       "      <td>NaN</td>\n",
       "      <td>NaN</td>\n",
       "      <td>NaN</td>\n",
       "      <td>NaN</td>\n",
       "      <td>NaN</td>\n",
       "      <td>NaN</td>\n",
       "    </tr>\n",
       "    <tr>\n",
       "      <th>56989</th>\n",
       "      <td>0.000038</td>\n",
       "      <td>0.000059</td>\n",
       "      <td>0.000044</td>\n",
       "      <td>0.000185</td>\n",
       "      <td>0.000345</td>\n",
       "      <td>0.000712</td>\n",
       "      <td>0.000688</td>\n",
       "      <td>0.000792</td>\n",
       "      <td>0.000013</td>\n",
       "      <td>0.000022</td>\n",
       "      <td>...</td>\n",
       "      <td>NaN</td>\n",
       "      <td>NaN</td>\n",
       "      <td>NaN</td>\n",
       "      <td>NaN</td>\n",
       "      <td>NaN</td>\n",
       "      <td>NaN</td>\n",
       "      <td>NaN</td>\n",
       "      <td>NaN</td>\n",
       "      <td>NaN</td>\n",
       "      <td>NaN</td>\n",
       "    </tr>\n",
       "  </tbody>\n",
       "</table>\n",
       "<p>56990 rows × 200 columns</p>\n",
       "</div>"
      ],
      "text/plain": [
       "       EEG_1_alpha  EEG_1_betha  EEG_1_gamma  EEG_1_theta  EEG_2_alpha  \\\n",
       "0         0.000023     0.000012     0.000004     0.000061     0.000221   \n",
       "1         0.000023     0.000012     0.000004     0.000061     0.000222   \n",
       "2         0.000024     0.000012     0.000004     0.000062     0.000224   \n",
       "3         0.000024     0.000012     0.000004     0.000062     0.000225   \n",
       "4         0.000024     0.000012     0.000004     0.000063     0.000227   \n",
       "...            ...          ...          ...          ...          ...   \n",
       "56985     0.000037     0.000058     0.000045     0.000180     0.000339   \n",
       "56986     0.000037     0.000059     0.000045     0.000180     0.000340   \n",
       "56987     0.000038     0.000059     0.000045     0.000181     0.000342   \n",
       "56988     0.000038     0.000059     0.000044     0.000182     0.000343   \n",
       "56989     0.000038     0.000059     0.000044     0.000185     0.000345   \n",
       "\n",
       "       EEG_2_betha  EEG_2_gamma  EEG_2_theta  EEG_3_alpha  EEG_3_betha  ...  \\\n",
       "0         0.000103     0.000038     0.000296     0.000007     0.000005  ...   \n",
       "1         0.000103     0.000038     0.000299     0.000007     0.000005  ...   \n",
       "2         0.000104     0.000038     0.000304     0.000007     0.000005  ...   \n",
       "3         0.000104     0.000038     0.000306     0.000007     0.000005  ...   \n",
       "4         0.000105     0.000038     0.000309     0.000008     0.000005  ...   \n",
       "...            ...          ...          ...          ...          ...  ...   \n",
       "56985     0.000716     0.000674     0.000818     0.000012     0.000021  ...   \n",
       "56986     0.000717     0.000674     0.000810     0.000012     0.000021  ...   \n",
       "56987     0.000717     0.000676     0.000800     0.000012     0.000022  ...   \n",
       "56988     0.000715     0.000680     0.000795     0.000012     0.000022  ...   \n",
       "56989     0.000712     0.000688     0.000792     0.000013     0.000022  ...   \n",
       "\n",
       "       RRV_CVSD  RRV_MedianBB  RRV_MadBB  RRV_MCVBB  RRV_nn20  RRV_nn50  \\\n",
       "0           NaN           NaN        NaN        NaN       NaN       NaN   \n",
       "1           NaN           NaN        NaN        NaN       NaN       NaN   \n",
       "2           NaN           NaN        NaN        NaN       NaN       NaN   \n",
       "3           NaN           NaN        NaN        NaN       NaN       NaN   \n",
       "4           NaN           NaN        NaN        NaN       NaN       NaN   \n",
       "...         ...           ...        ...        ...       ...       ...   \n",
       "56985       NaN           NaN        NaN        NaN       NaN       NaN   \n",
       "56986       NaN           NaN        NaN        NaN       NaN       NaN   \n",
       "56987       NaN           NaN        NaN        NaN       NaN       NaN   \n",
       "56988       NaN           NaN        NaN        NaN       NaN       NaN   \n",
       "56989       NaN           NaN        NaN        NaN       NaN       NaN   \n",
       "\n",
       "       RRV_pNN50  RRV_pNN20  RRV_HF  RRV_SD1  \n",
       "0            NaN        NaN     NaN      NaN  \n",
       "1            NaN        NaN     NaN      NaN  \n",
       "2            NaN        NaN     NaN      NaN  \n",
       "3            NaN        NaN     NaN      NaN  \n",
       "4            NaN        NaN     NaN      NaN  \n",
       "...          ...        ...     ...      ...  \n",
       "56985        NaN        NaN     NaN      NaN  \n",
       "56986        NaN        NaN     NaN      NaN  \n",
       "56987        NaN        NaN     NaN      NaN  \n",
       "56988        NaN        NaN     NaN      NaN  \n",
       "56989        NaN        NaN     NaN      NaN  \n",
       "\n",
       "[56990 rows x 200 columns]"
      ]
     },
     "execution_count": 28,
     "metadata": {},
     "output_type": "execute_result"
    }
   ],
   "source": [
    "full_dataframe = pd.read_csv(r'C:\\\\Users\\\\Rodrigo\\\\Desktop\\\\PhD\\\\loop-system\\\\full_dataframe_P1.csv', sep=\",\", index_col=False)\n",
    "full_dataframe"
   ]
  },
  {
   "cell_type": "code",
   "execution_count": 29,
   "id": "c0072e3e",
   "metadata": {},
   "outputs": [],
   "source": [
    "imp = pickle.load(open(\"C:\\\\Users\\\\Rodrigo\\\\Desktop\\\\PhD\\\\loop-system\\\\Training Models\\\\P1\\\\imp.pkl\", \"rb\"))\n",
    "scaler = pickle.load(open(\"C:\\\\Users\\\\Rodrigo\\\\Desktop\\\\PhD\\\\loop-system\\\\Training Models\\\\P1\\\\scaler.pkl\", \"rb\"))\n",
    "rfe = pickle.load(open(\"C:\\\\Users\\\\Rodrigo\\\\Desktop\\\\PhD\\\\loop-system\\\\Training Models\\\\P1\\\\rfe.pkl\", \"rb\"))\n",
    "model = pickle.load(open(\"C:\\\\Users\\\\Rodrigo\\\\Desktop\\\\PhD\\\\loop-system\\\\Training Models\\\\P1\\\\model.pkl\", \"rb\"))"
   ]
  },
  {
   "cell_type": "code",
   "execution_count": 43,
   "id": "1bf4d7e6",
   "metadata": {
    "scrolled": false
   },
   "outputs": [
    {
     "name": "stdout",
     "output_type": "stream",
     "text": [
      "Accuracy = 47.56974907878575%\n"
     ]
    }
   ],
   "source": [
    "from sklearn import metrics\n",
    "X = np.array(full_dataframe)\n",
    "\n",
    "X = imp.transform(X)\n",
    "X = scaler.transform(X)\n",
    "X = rfe.transform(X)\n",
    "\n",
    "prediction = (model.predict(X))\n",
    "print(\"Accuracy = \" + str(metrics.accuracy_score(categories,prediction)*100)+\"%\")"
   ]
  },
  {
   "cell_type": "code",
   "execution_count": 48,
   "id": "7a835957",
   "metadata": {},
   "outputs": [],
   "source": [
    "import csv\n",
    "f = open(\"C:\\\\Users\\\\Rodrigo\\\\Desktop\\\\PhD\\\\loop-system\\\\simulate_P1.csv\", \"w\")\n",
    "writer = csv.writer(f)\n",
    "header = [\"True Value\", \"Prediction\"]\n",
    "writer.writerow(header)\n",
    "for i in range(len(categories)):\n",
    "    writer.writerow([str(categories[i]), str(prediction[i])])\n",
    "\n",
    "f.close()"
   ]
  },
  {
   "cell_type": "code",
   "execution_count": 45,
   "id": "0ab132d8",
   "metadata": {},
   "outputs": [
    {
     "data": {
      "text/html": [
       "<div>\n",
       "<style scoped>\n",
       "    .dataframe tbody tr th:only-of-type {\n",
       "        vertical-align: middle;\n",
       "    }\n",
       "\n",
       "    .dataframe tbody tr th {\n",
       "        vertical-align: top;\n",
       "    }\n",
       "\n",
       "    .dataframe thead th {\n",
       "        text-align: right;\n",
       "    }\n",
       "</style>\n",
       "<table border=\"1\" class=\"dataframe\">\n",
       "  <thead>\n",
       "    <tr style=\"text-align: right;\">\n",
       "      <th></th>\n",
       "      <th>Variable</th>\n",
       "      <th>True Value</th>\n",
       "      <th>Prediction</th>\n",
       "    </tr>\n",
       "  </thead>\n",
       "  <tbody>\n",
       "    <tr>\n",
       "      <th>0</th>\n",
       "      <td>Category</td>\n",
       "      <td>Horror</td>\n",
       "      <td>Horror</td>\n",
       "    </tr>\n",
       "    <tr>\n",
       "      <th>1</th>\n",
       "      <td>Category</td>\n",
       "      <td>Horror</td>\n",
       "      <td>Horror</td>\n",
       "    </tr>\n",
       "    <tr>\n",
       "      <th>2</th>\n",
       "      <td>Category</td>\n",
       "      <td>Horror</td>\n",
       "      <td>Horror</td>\n",
       "    </tr>\n",
       "    <tr>\n",
       "      <th>3</th>\n",
       "      <td>Category</td>\n",
       "      <td>Horror</td>\n",
       "      <td>Horror</td>\n",
       "    </tr>\n",
       "    <tr>\n",
       "      <th>4</th>\n",
       "      <td>Category</td>\n",
       "      <td>Horror</td>\n",
       "      <td>Horror</td>\n",
       "    </tr>\n",
       "    <tr>\n",
       "      <th>...</th>\n",
       "      <td>...</td>\n",
       "      <td>...</td>\n",
       "      <td>...</td>\n",
       "    </tr>\n",
       "    <tr>\n",
       "      <th>1564</th>\n",
       "      <td>Category</td>\n",
       "      <td>Social Negative</td>\n",
       "      <td>Horror</td>\n",
       "    </tr>\n",
       "    <tr>\n",
       "      <th>1565</th>\n",
       "      <td>Category</td>\n",
       "      <td>Social Negative</td>\n",
       "      <td>Horror</td>\n",
       "    </tr>\n",
       "    <tr>\n",
       "      <th>1566</th>\n",
       "      <td>Category</td>\n",
       "      <td>Social Negative</td>\n",
       "      <td>Horror</td>\n",
       "    </tr>\n",
       "    <tr>\n",
       "      <th>1567</th>\n",
       "      <td>Category</td>\n",
       "      <td>Social Negative</td>\n",
       "      <td>Horror</td>\n",
       "    </tr>\n",
       "    <tr>\n",
       "      <th>1568</th>\n",
       "      <td>Category</td>\n",
       "      <td>Social Negative</td>\n",
       "      <td>Horror</td>\n",
       "    </tr>\n",
       "  </tbody>\n",
       "</table>\n",
       "<p>1569 rows × 3 columns</p>\n",
       "</div>"
      ],
      "text/plain": [
       "      Variable       True Value Prediction\n",
       "0     Category           Horror     Horror\n",
       "1     Category           Horror     Horror\n",
       "2     Category           Horror     Horror\n",
       "3     Category           Horror     Horror\n",
       "4     Category           Horror     Horror\n",
       "...        ...              ...        ...\n",
       "1564  Category  Social Negative     Horror\n",
       "1565  Category  Social Negative     Horror\n",
       "1566  Category  Social Negative     Horror\n",
       "1567  Category  Social Negative     Horror\n",
       "1568  Category  Social Negative     Horror\n",
       "\n",
       "[1569 rows x 3 columns]"
      ]
     },
     "execution_count": 45,
     "metadata": {},
     "output_type": "execute_result"
    }
   ],
   "source": [
    "output = pd.read_csv(r'C:\\\\Users\\\\Rodrigo\\\\Desktop\\\\PhD\\\\loop-system\\\\output_P1.csv', sep=\";\", index_col=False)\n",
    "output"
   ]
  },
  {
   "cell_type": "code",
   "execution_count": 47,
   "id": "ed1bb7e1",
   "metadata": {},
   "outputs": [
    {
     "name": "stdout",
     "output_type": "stream",
     "text": [
      "Simulated Accuracy = 47.56974907878575%\n",
      "Real Accuracy = 44.74187380497132%\n"
     ]
    }
   ],
   "source": [
    "print(\"Simulated Accuracy = \" + str(metrics.accuracy_score(categories,prediction)*100)+\"%\")\n",
    "print(\"Real Accuracy = \" + str(metrics.accuracy_score(np.array(output[\"True Value\"]),np.array(output[\"Prediction\"]))*100)+\"%\")"
   ]
  }
 ],
 "metadata": {
  "kernelspec": {
   "display_name": "Python 3 (ipykernel)",
   "language": "python",
   "name": "python3"
  },
  "language_info": {
   "codemirror_mode": {
    "name": "ipython",
    "version": 3
   },
   "file_extension": ".py",
   "mimetype": "text/x-python",
   "name": "python",
   "nbconvert_exporter": "python",
   "pygments_lexer": "ipython3",
   "version": "3.10.4"
  }
 },
 "nbformat": 4,
 "nbformat_minor": 5
}
